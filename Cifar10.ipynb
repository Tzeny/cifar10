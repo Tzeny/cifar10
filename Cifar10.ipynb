{
  "nbformat": 4,
  "nbformat_minor": 0,
  "metadata": {
    "colab": {
      "name": "Cifar10.ipynb",
      "version": "0.3.2",
      "provenance": [],
      "collapsed_sections": [],
      "include_colab_link": true
    },
    "kernelspec": {
      "name": "python3",
      "display_name": "Python 3"
    },
    "accelerator": "GPU"
  },
  "cells": [
    {
      "cell_type": "markdown",
      "metadata": {
        "id": "view-in-github",
        "colab_type": "text"
      },
      "source": [
        "[View in Colaboratory](https://colab.research.google.com/github/Tzeny/cifar10/blob/master/Cifar10.ipynb)"
      ]
    },
    {
      "metadata": {
        "id": "abWGmIbfhggR",
        "colab_type": "code",
        "colab": {
          "base_uri": "https://localhost:8080/",
          "height": 364
        },
        "outputId": "26fb57c8-dbf7-45f4-8464-ba168a2867bd"
      },
      "cell_type": "code",
      "source": [
        "!ln -sf /opt/bin/nvidia-smi /usr/bin/nvidia-smi\n",
        "!pip install gputil\n",
        "!pip install psutil\n",
        "!pip install humanize\n",
        "import psutil\n",
        "import humanize\n",
        "import os\n",
        "import GPUtil as GPU\n",
        "GPUs = GPU.getGPUs()\n",
        "# XXX: only one GPU on Colab and isn’t guaranteed\n",
        "gpu = GPUs[0]\n",
        "def printm():\n",
        " process = psutil.Process(os.getpid())\n",
        " print(\"Gen RAM Free: \" + humanize.naturalsize( psutil.virtual_memory().available ), \" | Proc size: \" + humanize.naturalsize( process.memory_info().rss))\n",
        " print(\"GPU RAM Free: {0:.0f}MB | Used: {1:.0f}MB | Util {2:3.0f}% | Total {3:.0f}MB\".format(gpu.memoryFree, gpu.memoryUsed, gpu.memoryUtil*100, gpu.memoryTotal))\n",
        "printm()"
      ],
      "execution_count": 16,
      "outputs": [
        {
          "output_type": "stream",
          "text": [
            "Collecting gputil\n",
            "  Downloading https://files.pythonhosted.org/packages/45/99/837428d26b47ebd6b66d6e1b180e98ec4a557767a93a81a02ea9d6242611/GPUtil-1.3.0.tar.gz\n",
            "Requirement already satisfied: numpy in /usr/local/lib/python3.6/dist-packages (from gputil) (1.14.5)\n",
            "Building wheels for collected packages: gputil\n",
            "  Running setup.py bdist_wheel for gputil ... \u001b[?25l-\b \bdone\n",
            "\u001b[?25h  Stored in directory: /content/.cache/pip/wheels/17/0f/04/b79c006972335e35472c0b835ed52bfc0815258d409f560108\n",
            "Successfully built gputil\n",
            "Installing collected packages: gputil\n",
            "Successfully installed gputil-1.3.0\n",
            "Requirement already satisfied: psutil in /usr/local/lib/python3.6/dist-packages (5.4.6)\n",
            "Collecting humanize\n",
            "  Downloading https://files.pythonhosted.org/packages/8c/e0/e512e4ac6d091fc990bbe13f9e0378f34cf6eecd1c6c268c9e598dcf5bb9/humanize-0.5.1.tar.gz\n",
            "Building wheels for collected packages: humanize\n",
            "  Running setup.py bdist_wheel for humanize ... \u001b[?25l-\b \bdone\n",
            "\u001b[?25h  Stored in directory: /content/.cache/pip/wheels/69/86/6c/f8b8593bc273ec4b0c653d3827f7482bb2001a2781a73b7f44\n",
            "Successfully built humanize\n",
            "Installing collected packages: humanize\n",
            "Successfully installed humanize-0.5.1\n",
            "Gen RAM Free: 9.5 GB  | Proc size: 3.7 GB\n",
            "GPU RAM Free: 503MB | Used: 10936MB | Util  96% | Total 11439MB\n"
          ],
          "name": "stdout"
        }
      ]
    },
    {
      "metadata": {
        "id": "6U2APHXm65Q4",
        "colab_type": "code",
        "colab": {}
      },
      "cell_type": "code",
      "source": [
        " !kill -9 -1"
      ],
      "execution_count": 0,
      "outputs": []
    },
    {
      "metadata": {
        "id": "M3yjSJHMh-RR",
        "colab_type": "code",
        "colab": {
          "base_uri": "https://localhost:8080/",
          "height": 69
        },
        "outputId": "bbed0632-b4a9-457f-fecb-2edd1f799527"
      },
      "cell_type": "code",
      "source": [
        "import pandas as pd\n",
        "import numpy as np\n",
        "%matplotlib inline\n",
        "import matplotlib.pyplot as plt\n",
        "\n",
        "from keras.datasets import cifar10\n",
        "\n",
        "(x_train, y_train), (x_test, y_test) = cifar10.load_data()\n",
        "\n",
        "x_train = x_train / 255.0\n",
        "x_test = x_test / 255.0"
      ],
      "execution_count": 1,
      "outputs": [
        {
          "output_type": "stream",
          "text": [
            "Using TensorFlow backend.\n"
          ],
          "name": "stderr"
        },
        {
          "output_type": "stream",
          "text": [
            "Downloading data from https://www.cs.toronto.edu/~kriz/cifar-10-python.tar.gz\n",
            "170500096/170498071 [==============================] - 14s 0us/step\n"
          ],
          "name": "stdout"
        }
      ]
    },
    {
      "metadata": {
        "id": "hGW67WZwiBO6",
        "colab_type": "code",
        "colab": {
          "base_uri": "https://localhost:8080/",
          "height": 266
        },
        "outputId": "d997d2df-d0ec-48d7-edb8-c3eed28958bd"
      },
      "cell_type": "code",
      "source": [
        "#gray = 0.2989 * r + 0.5870 * g + 0.1140 * b\n",
        "x_train_gray = np.dot(x_train[:,:,:,:3], [0.299, 0.587, 0.114])\n",
        "x_test_gray = np.dot(x_test[:,:,:,:3], [0.299, 0.587, 0.114])\n",
        "\n",
        "plt.imshow(x_train_gray[1], cmap='gray')\n",
        "plt.imshow(x_train[1])\n",
        "\n",
        "x_train_gray = x_train_gray.reshape(-1,32,32,1)\n",
        "x_test_gray = x_test_gray.reshape(-1,32,32,1)\n",
        "\n",
        "from keras.utils.np_utils import to_categorical\n",
        "\n",
        "y_train_cat = to_categorical(y_train)\n",
        "y_test_cat = to_categorical(y_test)\n",
        "\n",
        "i=0"
      ],
      "execution_count": 3,
      "outputs": [
        {
          "output_type": "display_data",
          "data": {
            "image/png": "[encoded data removed]",
            "text/plain": [
              "<matplotlib.figure.Figure at 0x7ffa76f121d0>"
            ]
          },
          "metadata": {
            "tags": []
          }
        }
      ]
    },
    {
      "metadata": {
        "id": "KqmcChpEiFJB",
        "colab_type": "code",
        "colab": {}
      },
      "cell_type": "code",
      "source": [
        "import datetime\n",
        "\n",
        "from keras.layers import Flatten, Activation, Conv2D, MaxPool2D, AvgPool2D, Dense, Dropout, BatchNormalization, Input, MaxPooling2D, Flatten, Activation, Conv2D, AvgPool2D, Dense, Dropout, concatenate\n",
        "from keras.optimizers import Adam, SGD\n",
        "from keras.models import Sequential\n",
        "import keras.backend as K\n",
        "from keras.callbacks import EarlyStopping, ModelCheckpoint, TensorBoard, ReduceLROnPlateau\n",
        "from keras.models import model_from_json, Model\n",
        "\n",
        "def build_tower(input_layer, features_nr, shape, tower_nr, \n",
        "                dropout=False, normalization=False, regularization=\"l2\", dropout_ratio=0.25):\n",
        "    #3x3 kernel tower\n",
        "    tower = Conv2D(features_nr, (1,1), padding='same', activation='relu', \n",
        "                     kernel_regularizer=regularization, name='tower_%d_%dx%da'%(tower_nr, shape[0], shape[1]))(input_layer)\n",
        "    tower = Conv2D(features_nr*2, shape, padding='same', activation='relu',\n",
        "                     kernel_regularizer=regularization, name='tower_%d_%dx%db'%(tower_nr, shape[0], shape[1]))(tower)\n",
        "    #condidional dropout/normalization\n",
        "    if dropout:\n",
        "        tower = Dropout(dropout_ratio, name='tower_%d_%dx%ddrop'%(tower_nr, shape[0], shape[1]))(tower)\n",
        "    if normalization:\n",
        "        tower = BatchNormalization(name='tower_%d_%dx%dnorm'%(tower_nr, shape[0], shape[1]))(tower)\n",
        "        \n",
        "    return tower\n",
        "\n",
        "def build_simple_tower(input_layer, features_nr, shape, tower_nr, \n",
        "                dropout=False, normalization=False, regularization=\"l2\", dropout_ratio=0.25):\n",
        "    #3x3 kernel tower\n",
        "    tower = Conv2D(features_nr, shape, padding='same', activation='relu',\n",
        "                     kernel_regularizer=regularization, \n",
        "                   name='tower_simple_%d_%dx%db'%(tower_nr, shape[0], shape[1]))(input_layer)\n",
        "    #condidional dropout/normalization\n",
        "    if dropout:\n",
        "        tower = Dropout(dropout_ratio, name='tower_%d_%dx%ddrop'%(tower_nr, shape[0], shape[1]))(tower)\n",
        "    if normalization:\n",
        "        tower = BatchNormalization(name='tower_%d_%dx%dnorm'%(tower_nr, shape[0], shape[1]))(tower)\n",
        "        \n",
        "    return tower\n",
        "\n",
        "def build_tower_subsample(input_layer, features_nr, shape, tower_nr, \n",
        "                          dropout=False, normalization=False, regularization='l2', dropout_ratio=0.25):\n",
        "    tower = build_tower(input_layer, features_nr, shape, tower_nr, \n",
        "                        dropout, normalization, regularization, dropout_ratio)\n",
        "    pool = MaxPooling2D((2,2), padding='same', name='tower_%d_2x2subsample'%(tower_nr))(tower)\n",
        "\n",
        "    return pool\n",
        "\n",
        "def build_simple_tower_subsample(input_layer, features_nr, shape, tower_nr, \n",
        "                          dropout=False, normalization=False, regularization='l2', dropout_ratio=0.25):\n",
        "    tower = build_simple_tower(input_layer, features_nr, shape, tower_nr, \n",
        "                        dropout, normalization, regularization, dropout_ratio)\n",
        "    pool = MaxPooling2D((2,2), padding='same', name='tower_%d_2x2subsample'%(tower_nr))(tower)\n",
        "\n",
        "    return pool\n",
        "\n",
        "def build_dense(input_layer, neurons_nr, dense_nr, \n",
        "                dropout=False, normalization=False, regularization='l2', dropout_ratio=0.5):\n",
        "    dense = Dense(neurons_nr, kernel_regularizer=regularization, \n",
        "                  name='dense_%d_%d'%(dense_nr, neurons_nr))(input_layer)\n",
        "    \n",
        "    if dropout:\n",
        "        dense = Dropout(dropout_ratio, name='dense_%d_%ddrop'%(dense_nr, neurons_nr))(dense)\n",
        "    if normalization:\n",
        "        dense = BatchNormalization(name='dense_%d_%dnorm'%(dense_nr, neurons_nr))(dense)\n",
        "    \n",
        "    return dense\n",
        "\n",
        "def build_inception_module(input_layer, features_nr, module_nr, \n",
        "                           dropout=False, normalization=False, regularization='l2', dropout_ratio=0.2):  \n",
        "    tower_1 = build_tower(input_layer, features_nr, (3,3), module_nr, \n",
        "                          dropout, normalization, regularization, dropout_ratio)\n",
        "\n",
        "    tower_2 = build_tower(input_layer, features_nr, (5,5), module_nr, \n",
        "                          dropout, normalization, regularization, dropout_ratio)\n",
        "\n",
        "    #max pooling tower\n",
        "    tower_3 = MaxPooling2D((3,3), strides=(1,1), padding='same', name='inception_%d_pool3x3a'%(module_nr))(input_layer)\n",
        "    tower_3 = Conv2D(features_nr*2, (1,1), padding='same', activation='relu',\n",
        "                    kernel_regularizer=regularization, name='inception_%d_pool3x3b'%(module_nr))(tower_3)\n",
        "    if dropout:\n",
        "        tower_3 = Dropout(dropout_ratio, name='inception_%d_pool3x3drop'%(module_nr))(tower_3)\n",
        "    if normalization:\n",
        "        tower_3 = BatchNormalization(name='inception_%d_pool3x3norm'%(module_nr))(tower_3)\n",
        "\n",
        "    #concatenate and subsample towers\n",
        "    output = concatenate([tower_1, tower_2, tower_3], axis = 3, name='inception_%d_concat'%(module_nr))\n",
        "\n",
        "    pooled = MaxPooling2D((2,2), padding='same', name='inception_%d_2x2subsample'%(module_nr))(output)\n",
        "    \n",
        "    return pooled\n",
        "\n",
        "i=datetime.datetime.now().strftime(\"%I:%M%p_%B-%d-%Y\")\n",
        "\n",
        "K.clear_session()\n",
        "\n",
        "!mkdir -p models\n",
        "!mkdir -p cifar10-logs\n",
        "\n",
        "a = EarlyStopping(monitor='val_loss', min_delta=0, patience=10, verbose=1, mode='auto')#will stop the model if val_loss does not improve for 2 consecutive epochs\n",
        "b = ModelCheckpoint(monitor='val_loss', filepath='./models/cifar10-'+str(i)+'.hdf5', verbose=1, save_best_only=True)#save model weights after each epoch if val_loss improves\n",
        "c = TensorBoard(log_dir='./cifar10-logs/'+str(i),\n",
        "                write_grads=True,\n",
        "                write_graph=True,\n",
        "                write_images=True,\n",
        "                batch_size=128)#saves a log file for tensorboard; remember to save different runs to different subdirectories\n",
        "\n",
        "#we'll use this instead of decay\n",
        "d = ReduceLROnPlateau(monitor='val_loss', factor=0.1, patience=5, verbose=0, mode='auto', min_delta=0.0001, cooldown=0, min_lr=0)\n",
        "\n",
        "callbacks=[a,b,c,d]\n",
        "\n",
        "#------------model definition-------------------\n",
        "\n",
        "use_norm = True\n",
        "lrate = 0.001\n",
        "\n",
        "input_img = Input(shape = (32, 32, 3), name='input')\n",
        "\n",
        "#conv_1 = Conv2D(1, (1,1), padding='same', activation='relu', \n",
        "               # kernel_regularizer = regularization, name='conv_64x64x1_inception_in')(input_img)\n",
        "\n",
        "#hopefully this will learn a good internal representation of the image channels\n",
        "#conv_1 = Conv2D(1, (1,1), padding='same', activation='relu', \n",
        "                #kernel_regularizer = regularization, name='conv_64x64x1_inception_in')(input_img)\n",
        "\n",
        "inception_1 = build_inception_module(input_img, 3, 1, True, use_norm)\n",
        "\n",
        "inception_2 = build_inception_module(inception_1, 36, 2, True, use_norm)\n",
        "\n",
        "inception_3 = build_inception_module(inception_2, 144, 3, True, use_norm)\n",
        "\n",
        "#tower_3 = build_simple_tower(inception_2, 144, (3,3),  3, False, use_norm)\n",
        "#tower_4 = build_simple_tower_subsample(tower_3, 144, (3,3), 4, False, use_norm)\n",
        "\n",
        "tower_5 = build_simple_tower(inception_3, 288, (3,3),  5, False, use_norm)\n",
        "tower_6 = build_simple_tower_subsample(tower_5, 288, (3,3), 6, False, use_norm)\n",
        "\n",
        "#model top\n",
        "\n",
        "flat = Flatten()(tower_6)\n",
        "\n",
        "dense_5 = build_dense(flat, 128, 1, True, use_norm)\n",
        "\n",
        "dense_6 = build_dense(dense_5, 64, 2, True, use_norm)\n",
        "\n",
        "out = Dense(10, activation='softmax')(dense_6)\n",
        "\n",
        "model = Model(inputs = input_img, outputs = out)\n",
        "\n",
        "#-----------------------------------------------\n",
        "\n",
        "model.compile(loss='binary_crossentropy',\n",
        "              optimizer=Adam(lrate),\n",
        "              metrics=['accuracy'])\n",
        "\n",
        "model.summary()\n",
        "\n",
        "model_json = model.to_json()\n",
        "with open(\"./models/cifar10-\"+str(i)+\".json\", \"w\") as json_file:\n",
        "    json_file.write(model_json)\n",
        "\n",
        "print(\"Saved model to\" + \"../models/cifar10-\"+str(i)+\".json\")\n"
      ],
      "execution_count": 0,
      "outputs": []
    },
    {
      "metadata": {
        "id": "oZQ5GrZVA1bv",
        "colab_type": "code",
        "colab": {
          "base_uri": "https://localhost:8080/",
          "height": 34
        },
        "outputId": "e8fe518f-b3fe-40b9-ee5c-83bb54a491f5"
      },
      "cell_type": "code",
      "source": [
        "def get_model_memory_usage(batch_size, model):\n",
        "    import numpy as np\n",
        "    from keras import backend as K\n",
        "\n",
        "    shapes_mem_count = 0\n",
        "    for l in model.layers:\n",
        "        single_layer_mem = 1\n",
        "        for s in l.output_shape:\n",
        "            if s is None:\n",
        "                continue\n",
        "            single_layer_mem *= s\n",
        "        shapes_mem_count += single_layer_mem\n",
        "\n",
        "    trainable_count = np.sum([K.count_params(p) for p in set(model.trainable_weights)])\n",
        "    non_trainable_count = np.sum([K.count_params(p) for p in set(model.non_trainable_weights)])\n",
        "\n",
        "    total_memory = 4.0*batch_size*(shapes_mem_count + trainable_count + non_trainable_count)\n",
        "    gbytes = np.round(total_memory / (1024.0 ** 3), 3)\n",
        "    return gbytes\n",
        "  \n",
        "print(\"Memory usage (GB):\", get_model_memory_usage(128,model))"
      ],
      "execution_count": 11,
      "outputs": [
        {
          "output_type": "stream",
          "text": [
            "Memory usage (GB): 1.073\n"
          ],
          "name": "stdout"
        }
      ]
    },
    {
      "metadata": {
        "id": "JRZf1eVHiKpw",
        "colab_type": "code",
        "colab": {
          "base_uri": "https://localhost:8080/",
          "height": 2101
        },
        "outputId": "df90bccd-6182-4a9a-c0ae-ec124270ff14"
      },
      "cell_type": "code",
      "source": [
        "import tensorflow as tf\n",
        "\n",
        "with tf.device('/gpu:0'):\n",
        "  model.fit(x_train, y_train_cat, batch_size=128, epochs=100, validation_split=0.2,verbose=1,callbacks=callbacks)  # starts training\n",
        "\n",
        "result = model.evaluate(x_test, y_test_cat)\n",
        "\n",
        "print(\"Accuracy on test set: \",result[1]*100,\"%\")"
      ],
      "execution_count": 12,
      "outputs": [
        {
          "output_type": "stream",
          "text": [
            "Train on 40000 samples, validate on 10000 samples\n",
            "Epoch 1/100\n",
            "40000/40000 [==============================] - 41s 1ms/step - loss: 1.7731 - acc: 0.9018 - val_loss: 0.4834 - val_acc: 0.9001\n",
            "\n",
            "Epoch 00001: val_loss improved from inf to 0.48337, saving model to ./models/cifar10-06:43AM_July-07-2018.hdf5\n",
            "Epoch 2/100\n",
            "17408/40000 [============>.................] - ETA: 19s - loss: 0.3830 - acc: 0.9085"
          ],
          "name": "stdout"
        },
        {
          "output_type": "stream",
          "text": [
            "40000/40000 [==============================] - 36s 911us/step - loss: 0.3594 - acc: 0.9100 - val_loss: 0.3691 - val_acc: 0.9029\n",
            "\n",
            "Epoch 00002: val_loss improved from 0.48337 to 0.36906, saving model to ./models/cifar10-06:43AM_July-07-2018.hdf5\n",
            "Epoch 3/100\n",
            "31872/40000 [======================>.......] - ETA: 6s - loss: 0.3176 - acc: 0.9141"
          ],
          "name": "stdout"
        },
        {
          "output_type": "stream",
          "text": [
            "40000/40000 [==============================] - 37s 913us/step - loss: 0.3165 - acc: 0.9144 - val_loss: 0.3406 - val_acc: 0.9071\n",
            "\n",
            "Epoch 00003: val_loss improved from 0.36906 to 0.34059, saving model to ./models/cifar10-06:43AM_July-07-2018.hdf5\n",
            "Epoch 4/100\n",
            "35456/40000 [=========================>....] - ETA: 3s - loss: 0.3046 - acc: 0.9170"
          ],
          "name": "stdout"
        },
        {
          "output_type": "stream",
          "text": [
            "40000/40000 [==============================] - 36s 911us/step - loss: 0.3043 - acc: 0.9171 - val_loss: 0.3859 - val_acc: 0.8989\n",
            "\n",
            "Epoch 00004: val_loss did not improve from 0.34059\n",
            "Epoch 5/100\n",
            "40000/40000 [==============================] - 37s 913us/step - loss: 0.2939 - acc: 0.9198 - val_loss: 0.3567 - val_acc: 0.9010\n",
            "\n",
            "Epoch 00005: val_loss did not improve from 0.34059\n",
            "Epoch 6/100\n",
            " 2816/40000 [=>............................] - ETA: 31s - loss: 0.2917 - acc: 0.9219"
          ],
          "name": "stdout"
        },
        {
          "output_type": "stream",
          "text": [
            "40000/40000 [==============================] - 37s 914us/step - loss: 0.2874 - acc: 0.9218 - val_loss: 0.3253 - val_acc: 0.9153\n",
            "\n",
            "Epoch 00006: val_loss improved from 0.34059 to 0.32533, saving model to ./models/cifar10-06:43AM_July-07-2018.hdf5\n",
            "Epoch 7/100\n",
            "28288/40000 [====================>.........] - ETA: 9s - loss: 0.2843 - acc: 0.9224 "
          ],
          "name": "stdout"
        },
        {
          "output_type": "stream",
          "text": [
            "40000/40000 [==============================] - 37s 914us/step - loss: 0.2839 - acc: 0.9223 - val_loss: 0.3854 - val_acc: 0.8937\n",
            "\n",
            "Epoch 00007: val_loss did not improve from 0.32533\n",
            "Epoch 8/100\n",
            "40000/40000 [==============================] - 36s 911us/step - loss: 0.2788 - acc: 0.9237 - val_loss: 0.6566 - val_acc: 0.8351\n",
            "\n",
            "Epoch 00008: val_loss did not improve from 0.32533\n",
            "Epoch 9/100\n",
            " 1536/40000 [>.............................] - ETA: 32s - loss: 0.2787 - acc: 0.9221"
          ],
          "name": "stdout"
        },
        {
          "output_type": "stream",
          "text": [
            "40000/40000 [==============================] - 36s 912us/step - loss: 0.2738 - acc: 0.9240 - val_loss: 0.2907 - val_acc: 0.9155\n",
            "\n",
            "Epoch 00009: val_loss improved from 0.32533 to 0.29067, saving model to ./models/cifar10-06:43AM_July-07-2018.hdf5\n",
            "Epoch 10/100\n",
            "27904/40000 [===================>..........] - ETA: 10s - loss: 0.2690 - acc: 0.9250"
          ],
          "name": "stdout"
        },
        {
          "output_type": "stream",
          "text": [
            "40000/40000 [==============================] - 37s 915us/step - loss: 0.2698 - acc: 0.9248 - val_loss: 0.3317 - val_acc: 0.9106\n",
            "\n",
            "Epoch 00010: val_loss did not improve from 0.29067\n",
            "Epoch 11/100\n",
            "40000/40000 [==============================] - 36s 912us/step - loss: 0.2646 - acc: 0.9265 - val_loss: 0.2994 - val_acc: 0.9153\n",
            "\n",
            "Epoch 00011: val_loss did not improve from 0.29067\n",
            "Epoch 12/100\n",
            " 1408/40000 [>.............................] - ETA: 32s - loss: 0.2609 - acc: 0.9271"
          ],
          "name": "stdout"
        },
        {
          "output_type": "stream",
          "text": [
            "40000/40000 [==============================] - 36s 912us/step - loss: 0.2656 - acc: 0.9261 - val_loss: 0.3661 - val_acc: 0.9026\n",
            "\n",
            "Epoch 00012: val_loss did not improve from 0.29067\n",
            "Epoch 13/100\n",
            "34432/40000 [========================>.....] - ETA: 4s - loss: 0.2578 - acc: 0.9275"
          ],
          "name": "stdout"
        },
        {
          "output_type": "stream",
          "text": [
            "40000/40000 [==============================] - 37s 913us/step - loss: 0.2581 - acc: 0.9273 - val_loss: 0.2919 - val_acc: 0.9191\n",
            "\n",
            "Epoch 00013: val_loss did not improve from 0.29067\n",
            "Epoch 14/100\n",
            "40000/40000 [==============================] - 37s 913us/step - loss: 0.2572 - acc: 0.9271 - val_loss: 0.2954 - val_acc: 0.9161\n",
            "\n",
            "Epoch 00014: val_loss did not improve from 0.29067\n",
            "Epoch 15/100\n",
            " 2432/40000 [>.............................] - ETA: 32s - loss: 0.2440 - acc: 0.9306"
          ],
          "name": "stdout"
        },
        {
          "output_type": "stream",
          "text": [
            "40000/40000 [==============================] - 36s 910us/step - loss: 0.2055 - acc: 0.9374 - val_loss: 0.2495 - val_acc: 0.9178\n",
            "\n",
            "Epoch 00015: val_loss improved from 0.29067 to 0.24954, saving model to ./models/cifar10-06:43AM_July-07-2018.hdf5\n",
            "Epoch 16/100\n",
            "28160/40000 [====================>.........] - ETA: 10s - loss: 0.1865 - acc: 0.9417"
          ],
          "name": "stdout"
        },
        {
          "output_type": "stream",
          "text": [
            "40000/40000 [==============================] - 37s 913us/step - loss: 0.1858 - acc: 0.9419 - val_loss: 0.2406 - val_acc: 0.9239\n",
            "\n",
            "Epoch 00016: val_loss improved from 0.24954 to 0.24056, saving model to ./models/cifar10-06:43AM_July-07-2018.hdf5\n",
            "Epoch 17/100\n",
            "34432/40000 [========================>.....] - ETA: 4s - loss: 0.1769 - acc: 0.9448"
          ],
          "name": "stdout"
        },
        {
          "output_type": "stream",
          "text": [
            "40000/40000 [==============================] - 37s 913us/step - loss: 0.1768 - acc: 0.9448 - val_loss: 0.2281 - val_acc: 0.9272\n",
            "\n",
            "Epoch 00017: val_loss improved from 0.24056 to 0.22805, saving model to ./models/cifar10-06:43AM_July-07-2018.hdf5\n",
            "Epoch 18/100\n",
            "35968/40000 [=========================>....] - ETA: 3s - loss: 0.1718 - acc: 0.9463"
          ],
          "name": "stdout"
        },
        {
          "output_type": "stream",
          "text": [
            "40000/40000 [==============================] - 36s 910us/step - loss: 0.1715 - acc: 0.9464 - val_loss: 0.2128 - val_acc: 0.9308\n",
            "\n",
            "Epoch 00018: val_loss improved from 0.22805 to 0.21284, saving model to ./models/cifar10-06:43AM_July-07-2018.hdf5\n",
            "Epoch 19/100\n",
            "36352/40000 [==========================>...] - ETA: 3s - loss: 0.1659 - acc: 0.9488"
          ],
          "name": "stdout"
        },
        {
          "output_type": "stream",
          "text": [
            "40000/40000 [==============================] - 36s 911us/step - loss: 0.1661 - acc: 0.9488 - val_loss: 0.2039 - val_acc: 0.9335\n",
            "\n",
            "Epoch 00019: val_loss improved from 0.21284 to 0.20388, saving model to ./models/cifar10-06:43AM_July-07-2018.hdf5\n",
            "Epoch 20/100\n",
            "36480/40000 [==========================>...] - ETA: 3s - loss: 0.1623 - acc: 0.9504"
          ],
          "name": "stdout"
        },
        {
          "output_type": "stream",
          "text": [
            "40000/40000 [==============================] - 36s 912us/step - loss: 0.1623 - acc: 0.9504 - val_loss: 0.2263 - val_acc: 0.9257\n",
            "\n",
            "Epoch 00020: val_loss did not improve from 0.20388\n",
            "Epoch 21/100\n",
            "40000/40000 [==============================] - 36s 910us/step - loss: 0.1588 - acc: 0.9521 - val_loss: 0.2170 - val_acc: 0.9292\n",
            "\n",
            "Epoch 00021: val_loss did not improve from 0.20388\n",
            "Epoch 22/100\n",
            " 2944/40000 [=>............................] - ETA: 31s - loss: 0.1539 - acc: 0.9535"
          ],
          "name": "stdout"
        },
        {
          "output_type": "stream",
          "text": [
            "40000/40000 [==============================] - 36s 911us/step - loss: 0.1554 - acc: 0.9533 - val_loss: 0.2455 - val_acc: 0.9178\n",
            "\n",
            "Epoch 00022: val_loss did not improve from 0.20388\n",
            "Epoch 23/100\n",
            "34944/40000 [=========================>....] - ETA: 4s - loss: 0.1527 - acc: 0.9546"
          ],
          "name": "stdout"
        },
        {
          "output_type": "stream",
          "text": [
            "40000/40000 [==============================] - 37s 913us/step - loss: 0.1527 - acc: 0.9544 - val_loss: 0.2301 - val_acc: 0.9268\n",
            "\n",
            "Epoch 00023: val_loss did not improve from 0.20388\n",
            "Epoch 24/100\n",
            "40000/40000 [==============================] - 37s 914us/step - loss: 0.1500 - acc: 0.9559 - val_loss: 0.2649 - val_acc: 0.9157\n",
            "\n",
            "Epoch 00024: val_loss did not improve from 0.20388\n",
            "Epoch 25/100\n",
            " 2688/40000 [=>............................] - ETA: 31s - loss: 0.1405 - acc: 0.9583"
          ],
          "name": "stdout"
        },
        {
          "output_type": "stream",
          "text": [
            "40000/40000 [==============================] - 37s 913us/step - loss: 0.1374 - acc: 0.9604 - val_loss: 0.2232 - val_acc: 0.9267\n",
            "\n",
            "Epoch 00025: val_loss did not improve from 0.20388\n",
            "Epoch 26/100\n",
            "34816/40000 [=========================>....] - ETA: 4s - loss: 0.1322 - acc: 0.9622"
          ],
          "name": "stdout"
        },
        {
          "output_type": "stream",
          "text": [
            "40000/40000 [==============================] - 36s 910us/step - loss: 0.1317 - acc: 0.9624 - val_loss: 0.2388 - val_acc: 0.9204\n",
            "\n",
            "Epoch 00026: val_loss did not improve from 0.20388\n",
            "Epoch 27/100\n",
            "40000/40000 [==============================] - 36s 912us/step - loss: 0.1288 - acc: 0.9637 - val_loss: 0.2327 - val_acc: 0.9233\n",
            "\n",
            "Epoch 00027: val_loss did not improve from 0.20388\n",
            "Epoch 28/100\n",
            " 2560/40000 [>.............................] - ETA: 31s - loss: 0.1294 - acc: 0.9636"
          ],
          "name": "stdout"
        },
        {
          "output_type": "stream",
          "text": [
            "40000/40000 [==============================] - 37s 913us/step - loss: 0.1271 - acc: 0.9637 - val_loss: 0.2342 - val_acc: 0.9223\n",
            "\n",
            "Epoch 00028: val_loss did not improve from 0.20388\n",
            "Epoch 29/100\n",
            "34816/40000 [=========================>....] - ETA: 4s - loss: 0.1247 - acc: 0.9647"
          ],
          "name": "stdout"
        },
        {
          "output_type": "stream",
          "text": [
            "40000/40000 [==============================] - 37s 913us/step - loss: 0.1250 - acc: 0.9647 - val_loss: 0.2379 - val_acc: 0.9208\n",
            "\n",
            "Epoch 00029: val_loss did not improve from 0.20388\n",
            "Epoch 00029: early stopping\n",
            "10000/10000 [==============================] - 5s 498us/step\n",
            "Accuracy on test set:  92.13599914550781 %\n"
          ],
          "name": "stdout"
        }
      ]
    },
    {
      "metadata": {
        "id": "TqgxBsf7j3lD",
        "colab_type": "code",
        "colab": {
          "base_uri": "https://localhost:8080/",
          "height": 52
        },
        "outputId": "5d92ac3d-8515-4f20-c1f1-52ca07178897"
      },
      "cell_type": "code",
      "source": [
        "model.load_weights('./models/cifar10-06:43AM_July-07-2018.hdf5')\n",
        "\n",
        "result = model.evaluate(x_test, y_test_cat)\n",
        "\n",
        "print(result)"
      ],
      "execution_count": 14,
      "outputs": [
        {
          "output_type": "stream",
          "text": [
            "10000/10000 [==============================] - 6s 578us/step\n",
            "[0.20430024523735046, 0.9331499870300293]\n"
          ],
          "name": "stdout"
        }
      ]
    },
    {
      "metadata": {
        "id": "wziduBIfj9gW",
        "colab_type": "code",
        "colab": {}
      },
      "cell_type": "code",
      "source": [
        ""
      ],
      "execution_count": 0,
      "outputs": []
    }
  ]
}